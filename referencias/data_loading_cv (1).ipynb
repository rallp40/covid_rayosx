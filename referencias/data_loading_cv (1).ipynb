{
 "cells": [
  {
   "cell_type": "markdown",
   "metadata": {},
   "source": [
    "Import libraries"
   ]
  },
  {
   "cell_type": "code",
   "execution_count": 25,
   "metadata": {},
   "outputs": [],
   "source": [
    "import cv2\n",
    "import os\n",
    "from tqdm import tqdm\n",
    "import matplotlib.pyplot as plt \n",
    "import torchxrayvision as xrv"
   ]
  },
  {
   "cell_type": "markdown",
   "metadata": {},
   "source": [
    "Initial Data Loader "
   ]
  },
  {
   "cell_type": "code",
   "execution_count": 30,
   "metadata": {},
   "outputs": [],
   "source": [
    "def test_dataloader(path, imgpath='images'):\n",
    "    \n",
    "    d_covid19 = xrv.datasets.COVID19_Dataset(\n",
    "        views= [\"PA\", \"AP\", \"AP Supine\"],\n",
    "        imgpath= imgpath,\n",
    "        csvpath= path + \"metadata.csv\"\n",
    "    )\n",
    "\n",
    "    for i in tqdm(range(len(d_covid19))):\n",
    "        # start from the most recent\n",
    "        a = d_covid19[len(d_covid19)-i-1]\n",
    "    \n",
    "    return d_covid19"
   ]
  },
  {
   "cell_type": "markdown",
   "metadata": {},
   "source": [
    "Data Instance"
   ]
  },
  {
   "cell_type": "code",
   "execution_count": 7,
   "metadata": {},
   "outputs": [],
   "source": [
    "path_origin = 'C:/Users/frank/covid-chestxray-dataset/'"
   ]
  },
  {
   "cell_type": "code",
   "execution_count": 8,
   "metadata": {},
   "outputs": [
    {
     "name": "stderr",
     "output_type": "stream",
     "text": [
      "100%|████████████████████████████████████████████████████████████████████████████████| 697/697 [01:05<00:00, 10.57it/s]\n"
     ]
    }
   ],
   "source": [
    "data = test_dataloader(path)"
   ]
  },
  {
   "cell_type": "markdown",
   "metadata": {},
   "source": [
    "Data DataFrame Info Description"
   ]
  },
  {
   "cell_type": "code",
   "execution_count": 10,
   "metadata": {
    "scrolled": true
   },
   "outputs": [
    {
     "data": {
      "text/html": [
       "<div>\n",
       "<style scoped>\n",
       "    .dataframe tbody tr th:only-of-type {\n",
       "        vertical-align: middle;\n",
       "    }\n",
       "\n",
       "    .dataframe tbody tr th {\n",
       "        vertical-align: top;\n",
       "    }\n",
       "\n",
       "    .dataframe thead th {\n",
       "        text-align: right;\n",
       "    }\n",
       "</style>\n",
       "<table border=\"1\" class=\"dataframe\">\n",
       "  <thead>\n",
       "    <tr style=\"text-align: right;\">\n",
       "      <th></th>\n",
       "      <th>index</th>\n",
       "      <th>patientid</th>\n",
       "      <th>offset</th>\n",
       "      <th>sex</th>\n",
       "      <th>age</th>\n",
       "      <th>finding</th>\n",
       "      <th>RT_PCR_positive</th>\n",
       "      <th>survival</th>\n",
       "      <th>intubated</th>\n",
       "      <th>intubation_present</th>\n",
       "      <th>...</th>\n",
       "      <th>date</th>\n",
       "      <th>location</th>\n",
       "      <th>folder</th>\n",
       "      <th>filename</th>\n",
       "      <th>doi</th>\n",
       "      <th>url</th>\n",
       "      <th>license</th>\n",
       "      <th>clinical_notes</th>\n",
       "      <th>other_notes</th>\n",
       "      <th>Unnamed: 29</th>\n",
       "    </tr>\n",
       "  </thead>\n",
       "  <tbody>\n",
       "    <tr>\n",
       "      <th>0</th>\n",
       "      <td>0</td>\n",
       "      <td>2</td>\n",
       "      <td>0.0</td>\n",
       "      <td>M</td>\n",
       "      <td>65.0</td>\n",
       "      <td>Pneumonia/Viral/COVID-19</td>\n",
       "      <td>Y</td>\n",
       "      <td>Y</td>\n",
       "      <td>N</td>\n",
       "      <td>N</td>\n",
       "      <td>...</td>\n",
       "      <td>January 22, 2020</td>\n",
       "      <td>Cho Ray Hospital, Ho Chi Minh City, Vietnam</td>\n",
       "      <td>images</td>\n",
       "      <td>auntminnie-a-2020_01_28_23_51_6665_2020_01_28_...</td>\n",
       "      <td>10.1056/nejmc2001272</td>\n",
       "      <td>https://www.nejm.org/doi/full/10.1056/NEJMc200...</td>\n",
       "      <td>NaN</td>\n",
       "      <td>On January 22, 2020, a 65-year-old man with a ...</td>\n",
       "      <td>NaN</td>\n",
       "      <td>NaN</td>\n",
       "    </tr>\n",
       "    <tr>\n",
       "      <th>1</th>\n",
       "      <td>1</td>\n",
       "      <td>2</td>\n",
       "      <td>3.0</td>\n",
       "      <td>M</td>\n",
       "      <td>65.0</td>\n",
       "      <td>Pneumonia/Viral/COVID-19</td>\n",
       "      <td>Y</td>\n",
       "      <td>Y</td>\n",
       "      <td>N</td>\n",
       "      <td>N</td>\n",
       "      <td>...</td>\n",
       "      <td>January 25, 2020</td>\n",
       "      <td>Cho Ray Hospital, Ho Chi Minh City, Vietnam</td>\n",
       "      <td>images</td>\n",
       "      <td>auntminnie-b-2020_01_28_23_51_6665_2020_01_28_...</td>\n",
       "      <td>10.1056/nejmc2001272</td>\n",
       "      <td>https://www.nejm.org/doi/full/10.1056/NEJMc200...</td>\n",
       "      <td>NaN</td>\n",
       "      <td>On January 22, 2020, a 65-year-old man with a ...</td>\n",
       "      <td>NaN</td>\n",
       "      <td>NaN</td>\n",
       "    </tr>\n",
       "    <tr>\n",
       "      <th>2</th>\n",
       "      <td>2</td>\n",
       "      <td>2</td>\n",
       "      <td>5.0</td>\n",
       "      <td>M</td>\n",
       "      <td>65.0</td>\n",
       "      <td>Pneumonia/Viral/COVID-19</td>\n",
       "      <td>Y</td>\n",
       "      <td>Y</td>\n",
       "      <td>N</td>\n",
       "      <td>N</td>\n",
       "      <td>...</td>\n",
       "      <td>January 27, 2020</td>\n",
       "      <td>Cho Ray Hospital, Ho Chi Minh City, Vietnam</td>\n",
       "      <td>images</td>\n",
       "      <td>auntminnie-c-2020_01_28_23_51_6665_2020_01_28_...</td>\n",
       "      <td>10.1056/nejmc2001272</td>\n",
       "      <td>https://www.nejm.org/doi/full/10.1056/NEJMc200...</td>\n",
       "      <td>NaN</td>\n",
       "      <td>On January 22, 2020, a 65-year-old man with a ...</td>\n",
       "      <td>NaN</td>\n",
       "      <td>NaN</td>\n",
       "    </tr>\n",
       "    <tr>\n",
       "      <th>3</th>\n",
       "      <td>3</td>\n",
       "      <td>2</td>\n",
       "      <td>6.0</td>\n",
       "      <td>M</td>\n",
       "      <td>65.0</td>\n",
       "      <td>Pneumonia/Viral/COVID-19</td>\n",
       "      <td>Y</td>\n",
       "      <td>Y</td>\n",
       "      <td>N</td>\n",
       "      <td>N</td>\n",
       "      <td>...</td>\n",
       "      <td>January 28, 2020</td>\n",
       "      <td>Cho Ray Hospital, Ho Chi Minh City, Vietnam</td>\n",
       "      <td>images</td>\n",
       "      <td>auntminnie-d-2020_01_28_23_51_6665_2020_01_28_...</td>\n",
       "      <td>10.1056/nejmc2001272</td>\n",
       "      <td>https://www.nejm.org/doi/full/10.1056/NEJMc200...</td>\n",
       "      <td>NaN</td>\n",
       "      <td>On January 22, 2020, a 65-year-old man with a ...</td>\n",
       "      <td>NaN</td>\n",
       "      <td>NaN</td>\n",
       "    </tr>\n",
       "    <tr>\n",
       "      <th>4</th>\n",
       "      <td>4</td>\n",
       "      <td>4</td>\n",
       "      <td>0.0</td>\n",
       "      <td>F</td>\n",
       "      <td>52.0</td>\n",
       "      <td>Pneumonia/Viral/COVID-19</td>\n",
       "      <td>Y</td>\n",
       "      <td>NaN</td>\n",
       "      <td>N</td>\n",
       "      <td>N</td>\n",
       "      <td>...</td>\n",
       "      <td>January 25, 2020</td>\n",
       "      <td>Changhua Christian Hospital, Changhua City, Ta...</td>\n",
       "      <td>images</td>\n",
       "      <td>nejmc2001573_f1a.jpeg</td>\n",
       "      <td>10.1056/NEJMc2001573</td>\n",
       "      <td>https://www.nejm.org/doi/full/10.1056/NEJMc200...</td>\n",
       "      <td>NaN</td>\n",
       "      <td>diffuse infiltrates in the bilateral lower lungs</td>\n",
       "      <td>NaN</td>\n",
       "      <td>NaN</td>\n",
       "    </tr>\n",
       "  </tbody>\n",
       "</table>\n",
       "<p>5 rows × 31 columns</p>\n",
       "</div>"
      ],
      "text/plain": [
       "   index patientid  offset sex   age                   finding  \\\n",
       "0      0         2     0.0   M  65.0  Pneumonia/Viral/COVID-19   \n",
       "1      1         2     3.0   M  65.0  Pneumonia/Viral/COVID-19   \n",
       "2      2         2     5.0   M  65.0  Pneumonia/Viral/COVID-19   \n",
       "3      3         2     6.0   M  65.0  Pneumonia/Viral/COVID-19   \n",
       "4      4         4     0.0   F  52.0  Pneumonia/Viral/COVID-19   \n",
       "\n",
       "  RT_PCR_positive survival intubated intubation_present  ...  \\\n",
       "0               Y        Y         N                  N  ...   \n",
       "1               Y        Y         N                  N  ...   \n",
       "2               Y        Y         N                  N  ...   \n",
       "3               Y        Y         N                  N  ...   \n",
       "4               Y      NaN         N                  N  ...   \n",
       "\n",
       "               date                                           location  \\\n",
       "0  January 22, 2020        Cho Ray Hospital, Ho Chi Minh City, Vietnam   \n",
       "1  January 25, 2020        Cho Ray Hospital, Ho Chi Minh City, Vietnam   \n",
       "2  January 27, 2020        Cho Ray Hospital, Ho Chi Minh City, Vietnam   \n",
       "3  January 28, 2020        Cho Ray Hospital, Ho Chi Minh City, Vietnam   \n",
       "4  January 25, 2020  Changhua Christian Hospital, Changhua City, Ta...   \n",
       "\n",
       "   folder                                           filename  \\\n",
       "0  images  auntminnie-a-2020_01_28_23_51_6665_2020_01_28_...   \n",
       "1  images  auntminnie-b-2020_01_28_23_51_6665_2020_01_28_...   \n",
       "2  images  auntminnie-c-2020_01_28_23_51_6665_2020_01_28_...   \n",
       "3  images  auntminnie-d-2020_01_28_23_51_6665_2020_01_28_...   \n",
       "4  images                              nejmc2001573_f1a.jpeg   \n",
       "\n",
       "                    doi                                                url  \\\n",
       "0  10.1056/nejmc2001272  https://www.nejm.org/doi/full/10.1056/NEJMc200...   \n",
       "1  10.1056/nejmc2001272  https://www.nejm.org/doi/full/10.1056/NEJMc200...   \n",
       "2  10.1056/nejmc2001272  https://www.nejm.org/doi/full/10.1056/NEJMc200...   \n",
       "3  10.1056/nejmc2001272  https://www.nejm.org/doi/full/10.1056/NEJMc200...   \n",
       "4  10.1056/NEJMc2001573  https://www.nejm.org/doi/full/10.1056/NEJMc200...   \n",
       "\n",
       "   license                                     clinical_notes  other_notes  \\\n",
       "0      NaN  On January 22, 2020, a 65-year-old man with a ...          NaN   \n",
       "1      NaN  On January 22, 2020, a 65-year-old man with a ...          NaN   \n",
       "2      NaN  On January 22, 2020, a 65-year-old man with a ...          NaN   \n",
       "3      NaN  On January 22, 2020, a 65-year-old man with a ...          NaN   \n",
       "4      NaN   diffuse infiltrates in the bilateral lower lungs          NaN   \n",
       "\n",
       "  Unnamed: 29  \n",
       "0         NaN  \n",
       "1         NaN  \n",
       "2         NaN  \n",
       "3         NaN  \n",
       "4         NaN  \n",
       "\n",
       "[5 rows x 31 columns]"
      ]
     },
     "execution_count": 10,
     "metadata": {},
     "output_type": "execute_result"
    }
   ],
   "source": [
    "data.csv.head()"
   ]
  },
  {
   "cell_type": "code",
   "execution_count": 11,
   "metadata": {},
   "outputs": [
    {
     "data": {
      "text/plain": [
       "array(['Pneumonia/Viral/COVID-19', 'Pneumonia', 'Pneumonia/Viral/SARS',\n",
       "       'Pneumonia/Fungal/Pneumocystis',\n",
       "       'Pneumonia/Bacterial/Streptococcus', 'No Finding',\n",
       "       'Pneumonia/Bacterial/Chlamydophila', 'Pneumonia/Bacterial/E.Coli',\n",
       "       'Pneumonia/Bacterial/Klebsiella', 'Pneumonia/Bacterial/Legionella',\n",
       "       'Pneumonia/Lipoid', 'Pneumonia/Viral/Varicella',\n",
       "       'Pneumonia/Bacterial', 'Pneumonia/Bacterial/Mycoplasma',\n",
       "       'Pneumonia/Viral/Influenza', 'Tuberculosis',\n",
       "       'Pneumonia/Viral/Influenza/H1N1', 'Pneumonia/Fungal/Aspergillosis',\n",
       "       'Pneumonia/Viral/Herpes ', 'Pneumonia/Aspiration',\n",
       "       'Pneumonia/Bacterial/Nocardia', 'Pneumonia/Viral/MERS-CoV',\n",
       "       'Pneumonia/Bacterial/Staphylococcus/MRSA'], dtype=object)"
      ]
     },
     "execution_count": 11,
     "metadata": {},
     "output_type": "execute_result"
    }
   ],
   "source": [
    "#data labels\n",
    "data.csv.finding.unique()"
   ]
  },
  {
   "cell_type": "code",
   "execution_count": 18,
   "metadata": {},
   "outputs": [
    {
     "data": {
      "text/plain": [
       "'auntminnie-d-2020_01_28_23_51_6665_2020_01_28_Vietnam_coronavirus.jpeg'"
      ]
     },
     "execution_count": 18,
     "metadata": {},
     "output_type": "execute_result"
    }
   ],
   "source": [
    "#givin example of filename\n",
    "data.csv.filename[3]"
   ]
  },
  {
   "cell_type": "markdown",
   "metadata": {},
   "source": [
    "Image Naive Processing"
   ]
  },
  {
   "cell_type": "code",
   "execution_count": 28,
   "metadata": {},
   "outputs": [],
   "source": [
    "class Transformation(object):\n",
    "    \"\"\"\n",
    "    Class that executes specific transformations \n",
    "    over images uploaded previously in xvr.COVID19_DATASET.\n",
    "  \n",
    "    Inputs:\n",
    "    ------\n",
    "    data_instance: \n",
    "        torchxrayvision object containing picture data\n",
    "    order: \n",
    "        string containing processing order\n",
    "    paht_origin:\n",
    "        local path where pictures are located.\n",
    "    path_saving:\n",
    "        local path to save pictures transformed\n",
    "        \n",
    "    Output:\n",
    "    ------\n",
    "    No returns.\n",
    "    \n",
    "    Important:\n",
    "    --------\n",
    "    Pictures are saving with their metadata original names.\n",
    "    \"\"\"\n",
    "    def __init__(self, \n",
    "                 data_instance,\n",
    "                 order, \n",
    "                 path_origin, \n",
    "                 path_saving, \n",
    "                 save=True):\n",
    "        \n",
    "        self.data_instance = data_instance\n",
    "        self.path_origin = path_origin\n",
    "        self.path_saving = path_saving\n",
    "        self.order = order\n",
    "        self.save = save\n",
    "        \n",
    "    def __savingpicture__(self, img, filename):\n",
    "        cv2.imwrite(filename, img) \n",
    "        \n",
    "    def __naiveGrayScale__(self):\n",
    "        list_pictures = []\n",
    "        for filename in self.data_instance.csv.filename:\n",
    "            dir_ = self.path_origin + 'images' + '/' + filename\n",
    "            picture = cv2.imread(dir_, 0)\n",
    "            list_pictures.append(picture)\n",
    "        return list_pictures\n",
    "            \n",
    "    def get_information(self):\n",
    "        \n",
    "        if self.path_saving == self.path_origin:\n",
    "            raise ValueError(\n",
    "                \"'origin' path and 'saving' path should be different\"\n",
    "            )\n",
    "            \n",
    "        if self.save:\n",
    "            os.chdir(self.path_saving) \n",
    "            if self.order == 'gray_transformation':\n",
    "                list_pictures = self.__naiveGrayScale__()\n",
    "                for idx in tqdm(range(self.data_instance.csv.shape[0])):\n",
    "                    self.__savingpicture__(\n",
    "                        list_pictures[idx], \n",
    "                        self.data_instance.csv.filename[idx]\n",
    "                    )"
   ]
  },
  {
   "cell_type": "code",
   "execution_count": 29,
   "metadata": {},
   "outputs": [
    {
     "name": "stderr",
     "output_type": "stream",
     "text": [
      "100%|████████████████████████████████████████████████████████████████████████████████| 697/697 [00:21<00:00, 33.12it/s]\n"
     ]
    }
   ],
   "source": [
    "Transformation(data, \n",
    "               'gray_transformation', \n",
    "               'C:/Users/frank/covid-chestxray-dataset/', \n",
    "               'C:/Users/frank/covid-chestxray-dataset/images_filtered').get_information()"
   ]
  }
 ],
 "metadata": {
  "kernelspec": {
   "display_name": "Python 3",
   "language": "python",
   "name": "python3"
  },
  "language_info": {
   "codemirror_mode": {
    "name": "ipython",
    "version": 3
   },
   "file_extension": ".py",
   "mimetype": "text/x-python",
   "name": "python",
   "nbconvert_exporter": "python",
   "pygments_lexer": "ipython3",
   "version": "3.8.2"
  }
 },
 "nbformat": 4,
 "nbformat_minor": 4
}
